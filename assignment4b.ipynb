{
 "cells": [
  {
   "cell_type": "code",
   "execution_count": 1,
   "id": "d473a31b",
   "metadata": {},
   "outputs": [],
   "source": [
    "frnd_1='santhoshi'\n",
    "frnd2=\"anjali\"\n",
    "frnd3=\"sirisha\"\n",
    "frnd4=\"kusuma\"\n",
    "frnd5=\"neelu\"\n",
    "frnd6=\"nasheena\"\n",
    "frnd7=\"sharmila\"\n",
    "frnd8=\"sree sudha\"\n",
    "frnd9=\"sukeerthi\"\n",
    "frnd10=\"ishu\""
   ]
  },
  {
   "cell_type": "code",
   "execution_count": 5,
   "id": "e4c3de7c",
   "metadata": {},
   "outputs": [
    {
     "name": "stdout",
     "output_type": "stream",
     "text": [
      "santhoshi\n",
      "anjali\n",
      "sirisha\n",
      "kusuma\n",
      "neelu\n",
      "nasheena\n",
      "sharmila\n",
      "sree sudha\n",
      "sukeerthi\n",
      "ishu\n"
     ]
    }
   ],
   "source": [
    "print(frnd_1)\n",
    "print(frnd2)\n",
    "print(frnd3)\n",
    "print(frnd4)\n",
    "print(frnd5)\n",
    "print(frnd6)\n",
    "print(frnd7)\n",
    "print(frnd8)\n",
    "print(frnd9)\n",
    "print(frnd10)"
   ]
  },
  {
   "cell_type": "code",
   "execution_count": 8,
   "id": "3a033733",
   "metadata": {},
   "outputs": [
    {
     "name": "stdout",
     "output_type": "stream",
     "text": [
      "santhoshi , anjali , sirisha , kusuma , neelu , nasheena , sharmila , sree sudha , sukeerthi , ishu\n"
     ]
    }
   ],
   "source": [
    "print(frnd_1,frnd2,frnd3,frnd4,frnd5,frnd6,frnd7,frnd8,frnd9,frnd10,sep=\" , \")"
   ]
  },
  {
   "cell_type": "code",
   "execution_count": 34,
   "id": "665fe82f",
   "metadata": {},
   "outputs": [
    {
     "name": "stdout",
     "output_type": "stream",
     "text": [
      "cricket\n",
      "foot ball\n",
      "basket ball\n",
      "ludo\n",
      "chess\n",
      "tennis\n",
      "hockey\n",
      "throw ball\n",
      "khokho\n",
      "volley ball\n"
     ]
    }
   ],
   "source": [
    "print(game_names)"
   ]
  },
  {
   "cell_type": "code",
   "execution_count": 9,
   "id": "e3f61cb4",
   "metadata": {},
   "outputs": [],
   "source": [
    "me=\"fathima\"\n",
    "mom=\"shahanaz\"\n",
    "dad=\"saleem\"\n",
    "bro1=\"umar\"\n",
    "bro2=\"ershad\"\n",
    "m_o_m=\"haseena\"\n",
    "f_o_m=\"rahman\"\n",
    "m_o_d=\"sameeunnisa\"\n",
    "f_o_d=\"usman\"\n",
    "l_sis=\"zoya\""
   ]
  },
  {
   "cell_type": "code",
   "execution_count": 12,
   "id": "172b7ada",
   "metadata": {},
   "outputs": [
    {
     "name": "stdout",
     "output_type": "stream",
     "text": [
      "fathima , shahanaz , saleem , umar , ershad , zoya , haseena , rahman , sameeunnisa , usman\n"
     ]
    }
   ],
   "source": [
    "print(me,mom,dad,bro1,bro2,l_sis,m_o_m,f_o_m,m_o_d,f_o_d,sep=\" , \")"
   ]
  },
  {
   "cell_type": "code",
   "execution_count": 28,
   "id": "bd7fe0cc",
   "metadata": {},
   "outputs": [],
   "source": [
    "fav_foods=\"egg biryani \\n chicken biryani \\n mutton biryani \\n ice cream \\n pani puri \\n soft drink \\n veg pulav \\n samosa \\n kichidi \\n sweets\""
   ]
  },
  {
   "cell_type": "code",
   "execution_count": 30,
   "id": "9066c173",
   "metadata": {},
   "outputs": [
    {
     "name": "stdout",
     "output_type": "stream",
     "text": [
      "egg biryani \n",
      " chicken biryani \n",
      " mutton biryani \n",
      " ice cream \n",
      " pani puri \n",
      " soft drink \n",
      " veg pulav \n",
      " samosa \n",
      " kichidi \n",
      " sweets\n"
     ]
    }
   ],
   "source": [
    "print(fav_foods)"
   ]
  },
  {
   "cell_type": "code",
   "execution_count": 22,
   "id": "82ff3b21",
   "metadata": {},
   "outputs": [],
   "source": [
    "colour_names=\"blue \\n black \\n green \\n indigo \\n violet \\n yellow \\n pink \\n purple \\n red \\n orange\""
   ]
  },
  {
   "cell_type": "code",
   "execution_count": 23,
   "id": "179e10a6",
   "metadata": {},
   "outputs": [
    {
     "name": "stdout",
     "output_type": "stream",
     "text": [
      "blue \n",
      " black \n",
      " green \n",
      " indigo \n",
      " violet \n",
      " yellow \n",
      " pink \n",
      " purple \n",
      " red \n",
      " orange\n"
     ]
    }
   ],
   "source": [
    "print(colour_names)"
   ]
  },
  {
   "cell_type": "code",
   "execution_count": 31,
   "id": "8411833f",
   "metadata": {},
   "outputs": [],
   "source": [
    "month_names=\"january\\nfebruary\\nmarch\\napril\\nmay\\njune\\njuly\\naugust\\nseptember\\noctober\\nnovember\\ndecember\""
   ]
  },
  {
   "cell_type": "code",
   "execution_count": 32,
   "id": "1f1a08fd",
   "metadata": {
    "scrolled": true
   },
   "outputs": [
    {
     "name": "stdout",
     "output_type": "stream",
     "text": [
      "january\n",
      "february\n",
      "march\n",
      "april\n",
      "may\n",
      "june\n",
      "july\n",
      "august\n",
      "september\n",
      "october\n",
      "november\n",
      "december\n"
     ]
    }
   ],
   "source": [
    "print(month_names)"
   ]
  },
  {
   "cell_type": "code",
   "execution_count": 33,
   "id": "9251c8d0",
   "metadata": {},
   "outputs": [],
   "source": [
    "game_names=\"cricket\\nfoot ball\\nbasket ball\\nludo\\nchess\\ntennis\\nhockey\\nthrow ball\\nkhokho\\nvolley ball\""
   ]
  },
  {
   "cell_type": "code",
   "execution_count": 35,
   "id": "cbe72da2",
   "metadata": {},
   "outputs": [],
   "source": [
    "city_names=\"machilipatnam\\nhyderabad\\npedana\\nkolcutta\\nmumbai\\ndelhi\\nchennai\\nnizamabad\\nibrahimpatnam\\nvijaywada\""
   ]
  },
  {
   "cell_type": "code",
   "execution_count": 36,
   "id": "8b497aae",
   "metadata": {},
   "outputs": [
    {
     "name": "stdout",
     "output_type": "stream",
     "text": [
      "machilipatnam\n",
      "hyderabad\n",
      "pedana\n",
      "kolcutta\n",
      "mumbai\n",
      "delhi\n",
      "chennai\n",
      "nizamabad\n",
      "ibrahimpatnam\n",
      "vijaywada\n"
     ]
    }
   ],
   "source": [
    "print(city_names)"
   ]
  },
  {
   "cell_type": "code",
   "execution_count": 38,
   "id": "f31d3f88",
   "metadata": {},
   "outputs": [],
   "source": [
    "frndsnames=[frnd_1,frnd2,frnd3,frnd4,frnd5,frnd6,frnd7,frnd8,frnd9,frnd10]"
   ]
  },
  {
   "cell_type": "code",
   "execution_count": 39,
   "id": "15030c22",
   "metadata": {},
   "outputs": [
    {
     "name": "stdout",
     "output_type": "stream",
     "text": [
      "['santhoshi', 'anjali', 'sirisha', 'kusuma', 'neelu', 'nasheena', 'sharmila', 'sree sudha', 'sukeerthi', 'ishu']\n"
     ]
    }
   ],
   "source": [
    "print(frndsnames)"
   ]
  },
  {
   "cell_type": "code",
   "execution_count": 40,
   "id": "0d8d74dc",
   "metadata": {},
   "outputs": [],
   "source": [
    "family_members=(me,mom,dad,bro1,bro2,m_o_m,f_o_m,m_o_d,f_o_d,l_sis)"
   ]
  },
  {
   "cell_type": "code",
   "execution_count": 41,
   "id": "2b00cd69",
   "metadata": {},
   "outputs": [
    {
     "name": "stdout",
     "output_type": "stream",
     "text": [
      "('fathima', 'shahanaz', 'saleem', 'umar', 'ershad', 'haseena', 'rahman', 'sameeunnisa', 'usman', 'zoya')\n"
     ]
    }
   ],
   "source": [
    "print(family_members)"
   ]
  },
  {
   "cell_type": "code",
   "execution_count": 49,
   "id": "e9fc4089",
   "metadata": {},
   "outputs": [],
   "source": [
    "colours={\"violet\",\"indigo\",\"blue\",\"green\",\"yellow\",\"orange\",\"red\",\"pink\",\"black\",\"purple\"}"
   ]
  },
  {
   "cell_type": "code",
   "execution_count": 50,
   "id": "0e800c40",
   "metadata": {},
   "outputs": [
    {
     "name": "stdout",
     "output_type": "stream",
     "text": [
      "{'yellow', 'red', 'pink', 'purple', 'black', 'orange', 'violet', 'blue', 'green', 'indigo'}\n"
     ]
    }
   ],
   "source": [
    "print(colours)"
   ]
  },
  {
   "cell_type": "code",
   "execution_count": 4,
   "id": "46298383",
   "metadata": {},
   "outputs": [],
   "source": [
    "months_names=[1,9,10,5,3,2,7,8,6,4]"
   ]
  },
  {
   "cell_type": "code",
   "execution_count": 11,
   "id": "6d5e4464",
   "metadata": {},
   "outputs": [],
   "source": [
    "months_names.sort()"
   ]
  },
  {
   "cell_type": "code",
   "execution_count": 12,
   "id": "d0c755aa",
   "metadata": {},
   "outputs": [
    {
     "name": "stdout",
     "output_type": "stream",
     "text": [
      "[1, 2, 3, 4, 5, 6, 7, 8, 9, 10]\n"
     ]
    }
   ],
   "source": [
    "print(months_names)"
   ]
  },
  {
   "cell_type": "code",
   "execution_count": 13,
   "id": "d01ec917",
   "metadata": {},
   "outputs": [],
   "source": [
    "tollywood_heros=[\"chiru\", \"balaya\", \"nag\",\"venky\",\"powerstar\",\"superstar\",\"ntr\",\"ramcharan\"]"
   ]
  },
  {
   "cell_type": "code",
   "execution_count": 15,
   "id": "a1b7226b",
   "metadata": {},
   "outputs": [],
   "source": [
    "tollywood_heros[0]=\"chiranjeevi\"\n",
    "tollywood_heros[1]=\"balakrishna\"\n",
    "tollywood_heros[2]=\"nagarjuna\"\n",
    "tollywood_heros[4]=\"pawankalyan\"\n",
    "tollywood_heros[5]=\"maheshbabu\"\n",
    "tollywood_heros[6]=\"N T Rama rao\""
   ]
  },
  {
   "cell_type": "code",
   "execution_count": 16,
   "id": "30d931be",
   "metadata": {},
   "outputs": [
    {
     "name": "stdout",
     "output_type": "stream",
     "text": [
      "['chiranjeevi', 'balakrishna', 'nagarjuna', 'venky', 'pawankalyan', 'maheshbabu', 'N T Rama rao', 'ramcharan']\n"
     ]
    }
   ],
   "source": [
    "print(tollywood_heros)"
   ]
  },
  {
   "cell_type": "code",
   "execution_count": 2,
   "id": "cbd27791",
   "metadata": {},
   "outputs": [],
   "source": [
    "bollywood_heros=[\"sharukkhan\", \"salmankhan\", \"salmankhan\",\"amirkhan\",\"HrithikRoshan\",\"Amitabh Bachchan\",\"Akshay Kumar\",\"amirkhan\"]"
   ]
  },
  {
   "cell_type": "code",
   "execution_count": 6,
   "id": "1ff4d353",
   "metadata": {},
   "outputs": [
    {
     "name": "stdout",
     "output_type": "stream",
     "text": [
      "{'Amitabh Bachchan', 'amirkhan', 'Akshay Kumar', 'HrithikRoshan', 'salmankhan', 'sharukkhan'}\n"
     ]
    }
   ],
   "source": [
    "set1=set(bollywood_heros)\n",
    "print(set1)"
   ]
  },
  {
   "cell_type": "code",
   "execution_count": 5,
   "id": "7ba2e066",
   "metadata": {},
   "outputs": [
    {
     "data": {
      "text/plain": [
       "{'Akshay Kumar',\n",
       " 'Amitabh Bachchan',\n",
       " 'HrithikRoshan',\n",
       " 'amirkhan',\n",
       " 'salmankhan',\n",
       " 'sharukkhan'}"
      ]
     },
     "execution_count": 5,
     "metadata": {},
     "output_type": "execute_result"
    }
   ],
   "source": [
    "set1"
   ]
  },
  {
   "cell_type": "code",
   "execution_count": 24,
   "id": "ee6ff83e",
   "metadata": {},
   "outputs": [],
   "source": [
    "breakfast_items=[\"upma\",\"dosa\",\"idly\",\"puri\",\"punugulu\",\"roti\",\"chapathi\", \"parota\",\"mysoor baji\",\"minapa baji\"]"
   ]
  },
  {
   "cell_type": "code",
   "execution_count": 25,
   "id": "e65fba7d",
   "metadata": {},
   "outputs": [
    {
     "name": "stdout",
     "output_type": "stream",
     "text": [
      "my favourite breakfast is chapathi\n"
     ]
    }
   ],
   "source": [
    "print(\"my favourite breakfast is\",breakfast_items[6])"
   ]
  }
 ],
 "metadata": {
  "kernelspec": {
   "display_name": "Python 3 (ipykernel)",
   "language": "python",
   "name": "python3"
  },
  "language_info": {
   "codemirror_mode": {
    "name": "ipython",
    "version": 3
   },
   "file_extension": ".py",
   "mimetype": "text/x-python",
   "name": "python",
   "nbconvert_exporter": "python",
   "pygments_lexer": "ipython3",
   "version": "3.10.9"
  }
 },
 "nbformat": 4,
 "nbformat_minor": 5
}
